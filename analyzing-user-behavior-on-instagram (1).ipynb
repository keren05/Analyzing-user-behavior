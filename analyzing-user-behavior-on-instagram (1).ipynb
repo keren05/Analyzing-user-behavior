{
 "cells": [
  {
   "cell_type": "markdown",
   "id": "3c7facec",
   "metadata": {
    "_cell_guid": "52fee98e-421a-4d7e-a327-7dfed5f4a4ef",
    "_uuid": "f90d991e-0d15-47eb-a2cb-db88bee5b7ed",
    "papermill": {
     "duration": 0.007396,
     "end_time": "2023-07-20T18:55:03.642360",
     "exception": false,
     "start_time": "2023-07-20T18:55:03.634964",
     "status": "completed"
    },
    "tags": []
   },
   "source": [
    "<center>\n",
    "  <h1 style=\"background-color:purple; color:white; font-size:40px; font-weight:bold; font-family:Times New Roman; border:2px solid black;\">Analyzing User Behavior on Instagram📱🤳</h1>\n",
    "</center>"
   ]
  },
  {
   "cell_type": "markdown",
   "id": "5d130618",
   "metadata": {
    "_cell_guid": "671fc1c9-e267-4398-a901-bccdccfa6400",
    "_uuid": "e4cad680-eea3-494b-8351-f9c2fdacdd77",
    "papermill": {
     "duration": 0.0066,
     "end_time": "2023-07-20T18:55:03.656100",
     "exception": false,
     "start_time": "2023-07-20T18:55:03.649500",
     "status": "completed"
    },
    "tags": []
   },
   "source": [
    "![](https://api.backlinko.com/app/uploads/2020/08/instagram-users-post-banner.png)"
   ]
  },
  {
   "cell_type": "markdown",
   "id": "20ad0724",
   "metadata": {
    "papermill": {
     "duration": 0.006675,
     "end_time": "2023-07-20T18:55:03.670896",
     "exception": false,
     "start_time": "2023-07-20T18:55:03.664221",
     "status": "completed"
    },
    "tags": []
   },
   "source": [
    "<center>\n",
    "  <h1 style=\"background-color:purple; color:white; font-size:40px; font-weight:bold; font-family:Times New Roman; border:2px solid black;\">Import Library:</h1>\n",
    "</center>"
   ]
  },
  {
   "cell_type": "code",
   "execution_count": 1,
   "id": "fd9be6c7",
   "metadata": {
    "execution": {
     "iopub.execute_input": "2023-07-20T18:55:03.687523Z",
     "iopub.status.busy": "2023-07-20T18:55:03.686758Z",
     "iopub.status.idle": "2023-07-20T18:55:05.360379Z",
     "shell.execute_reply": "2023-07-20T18:55:05.359381Z"
    },
    "papermill": {
     "duration": 1.685388,
     "end_time": "2023-07-20T18:55:05.363231",
     "exception": false,
     "start_time": "2023-07-20T18:55:03.677843",
     "status": "completed"
    },
    "tags": []
   },
   "outputs": [
    {
     "name": "stderr",
     "output_type": "stream",
     "text": [
      "/opt/conda/lib/python3.10/site-packages/scipy/__init__.py:146: UserWarning: A NumPy version >=1.16.5 and <1.23.0 is required for this version of SciPy (detected version 1.23.5\n",
      "  warnings.warn(f\"A NumPy version >={np_minversion} and <{np_maxversion}\"\n"
     ]
    }
   ],
   "source": [
    "import numpy as np\n",
    "import pandas as pd\n",
    "import matplotlib.pyplot as plt\n",
    "import seaborn as sns"
   ]
  },
  {
   "cell_type": "markdown",
   "id": "2f10ca1a",
   "metadata": {
    "papermill": {
     "duration": 0.006684,
     "end_time": "2023-07-20T18:55:05.377037",
     "exception": false,
     "start_time": "2023-07-20T18:55:05.370353",
     "status": "completed"
    },
    "tags": []
   },
   "source": [
    "<center>\n",
    "  <h1 style=\"background-color:purple; color:white; font-size:40px; font-weight:bold; font-family:Times New Roman; border:2px solid black;\">Import the Dataset:</h1>\n",
    "</center>"
   ]
  },
  {
   "cell_type": "code",
   "execution_count": 2,
   "id": "b86526c4",
   "metadata": {
    "execution": {
     "iopub.execute_input": "2023-07-20T18:55:05.394786Z",
     "iopub.status.busy": "2023-07-20T18:55:05.393381Z",
     "iopub.status.idle": "2023-07-20T18:55:05.404403Z",
     "shell.execute_reply": "2023-07-20T18:55:05.403072Z"
    },
    "papermill": {
     "duration": 0.022645,
     "end_time": "2023-07-20T18:55:05.406986",
     "exception": false,
     "start_time": "2023-07-20T18:55:05.384341",
     "status": "completed"
    },
    "tags": []
   },
   "outputs": [
    {
     "name": "stdout",
     "output_type": "stream",
     "text": [
      "/kaggle/input/user-behavior-on-instagram/comments_cleaned.csv\n"
     ]
    }
   ],
   "source": [
    "import os\n",
    "for dirname, _, filenames in os.walk('/kaggle/input'):\n",
    "    for filename in filenames:\n",
    "        print(os.path.join(dirname, filename))"
   ]
  },
  {
   "cell_type": "markdown",
   "id": "97bf153e",
   "metadata": {
    "_cell_guid": "e23afa65-35e2-4138-9d17-9a0df4e244dd",
    "_uuid": "93c5928a-7b9f-4243-a97e-e5aab44fcade",
    "papermill": {
     "duration": 0.006813,
     "end_time": "2023-07-20T18:55:05.421076",
     "exception": false,
     "start_time": "2023-07-20T18:55:05.414263",
     "status": "completed"
    },
    "tags": []
   },
   "source": [
    "<center>\n",
    "  <h1 style=\"background-color:purple; color:white; font-size:40px; font-weight:bold; font-family:Times New Roman; border:2px solid black;\">Load the Dataset:</h1>\n",
    "</center>"
   ]
  },
  {
   "cell_type": "code",
   "execution_count": 3,
   "id": "623acff5",
   "metadata": {
    "execution": {
     "iopub.execute_input": "2023-07-20T18:55:05.437592Z",
     "iopub.status.busy": "2023-07-20T18:55:05.436899Z",
     "iopub.status.idle": "2023-07-20T18:55:05.500107Z",
     "shell.execute_reply": "2023-07-20T18:55:05.498746Z"
    },
    "papermill": {
     "duration": 0.074515,
     "end_time": "2023-07-20T18:55:05.502799",
     "exception": false,
     "start_time": "2023-07-20T18:55:05.428284",
     "status": "completed"
    },
    "tags": []
   },
   "outputs": [
    {
     "data": {
      "text/html": [
       "<div>\n",
       "<style scoped>\n",
       "    .dataframe tbody tr th:only-of-type {\n",
       "        vertical-align: middle;\n",
       "    }\n",
       "\n",
       "    .dataframe tbody tr th {\n",
       "        vertical-align: top;\n",
       "    }\n",
       "\n",
       "    .dataframe thead th {\n",
       "        text-align: right;\n",
       "    }\n",
       "</style>\n",
       "<table border=\"1\" class=\"dataframe\">\n",
       "  <thead>\n",
       "    <tr style=\"text-align: right;\">\n",
       "      <th></th>\n",
       "      <th>Unnamed: 0</th>\n",
       "      <th>id</th>\n",
       "      <th>comment</th>\n",
       "      <th>User  id</th>\n",
       "      <th>Photo id</th>\n",
       "      <th>created Timestamp</th>\n",
       "      <th>posted date</th>\n",
       "      <th>emoji used</th>\n",
       "      <th>Hashtags used count</th>\n",
       "    </tr>\n",
       "  </thead>\n",
       "  <tbody>\n",
       "    <tr>\n",
       "      <th>0</th>\n",
       "      <td>0</td>\n",
       "      <td>1</td>\n",
       "      <td>unde at dolorem</td>\n",
       "      <td>2</td>\n",
       "      <td>1</td>\n",
       "      <td>13-04-2023 08:04</td>\n",
       "      <td>April 14</td>\n",
       "      <td>yes</td>\n",
       "      <td>1</td>\n",
       "    </tr>\n",
       "    <tr>\n",
       "      <th>1</th>\n",
       "      <td>1</td>\n",
       "      <td>2</td>\n",
       "      <td>quae ea ducimus</td>\n",
       "      <td>3</td>\n",
       "      <td>1</td>\n",
       "      <td>13-04-2023 08:04</td>\n",
       "      <td>April 14</td>\n",
       "      <td>no</td>\n",
       "      <td>2</td>\n",
       "    </tr>\n",
       "    <tr>\n",
       "      <th>2</th>\n",
       "      <td>2</td>\n",
       "      <td>3</td>\n",
       "      <td>alias a voluptatum</td>\n",
       "      <td>5</td>\n",
       "      <td>1</td>\n",
       "      <td>13-04-2023 08:04</td>\n",
       "      <td>April 14</td>\n",
       "      <td>no</td>\n",
       "      <td>4</td>\n",
       "    </tr>\n",
       "    <tr>\n",
       "      <th>3</th>\n",
       "      <td>3</td>\n",
       "      <td>4</td>\n",
       "      <td>facere suscipit sunt</td>\n",
       "      <td>14</td>\n",
       "      <td>1</td>\n",
       "      <td>13-04-2023 08:04</td>\n",
       "      <td>April 14</td>\n",
       "      <td>yes</td>\n",
       "      <td>2</td>\n",
       "    </tr>\n",
       "    <tr>\n",
       "      <th>4</th>\n",
       "      <td>4</td>\n",
       "      <td>5</td>\n",
       "      <td>totam eligendi quaerat</td>\n",
       "      <td>17</td>\n",
       "      <td>1</td>\n",
       "      <td>13-04-2023 08:04</td>\n",
       "      <td>April 14</td>\n",
       "      <td>yes</td>\n",
       "      <td>1</td>\n",
       "    </tr>\n",
       "  </tbody>\n",
       "</table>\n",
       "</div>"
      ],
      "text/plain": [
       "   Unnamed: 0  id                 comment  User  id  Photo id  \\\n",
       "0           0   1         unde at dolorem         2         1   \n",
       "1           1   2         quae ea ducimus         3         1   \n",
       "2           2   3      alias a voluptatum         5         1   \n",
       "3           3   4    facere suscipit sunt        14         1   \n",
       "4           4   5  totam eligendi quaerat        17         1   \n",
       "\n",
       "  created Timestamp posted date emoji used  Hashtags used count  \n",
       "0  13-04-2023 08:04    April 14        yes                    1  \n",
       "1  13-04-2023 08:04    April 14         no                    2  \n",
       "2  13-04-2023 08:04    April 14         no                    4  \n",
       "3  13-04-2023 08:04    April 14        yes                    2  \n",
       "4  13-04-2023 08:04    April 14        yes                    1  "
      ]
     },
     "execution_count": 3,
     "metadata": {},
     "output_type": "execute_result"
    }
   ],
   "source": [
    "ins=pd.read_csv(\"/kaggle/input/user-behavior-on-instagram/comments_cleaned.csv\")\n",
    "ins.head(5)"
   ]
  },
  {
   "cell_type": "markdown",
   "id": "4e0d7079",
   "metadata": {
    "papermill": {
     "duration": 0.008594,
     "end_time": "2023-07-20T18:55:05.519075",
     "exception": false,
     "start_time": "2023-07-20T18:55:05.510481",
     "status": "completed"
    },
    "tags": []
   },
   "source": [
    "<center>\n",
    "  <h1 style=\"background-color:purple; color:white; font-size:40px; font-weight:bold; font-family:Times New Roman; border:2px solid black;\">Initial Data Inspection:</h1>\n",
    "</center>"
   ]
  },
  {
   "cell_type": "code",
   "execution_count": 4,
   "id": "d13bb47e",
   "metadata": {
    "execution": {
     "iopub.execute_input": "2023-07-20T18:55:05.536523Z",
     "iopub.status.busy": "2023-07-20T18:55:05.535837Z",
     "iopub.status.idle": "2023-07-20T18:55:05.551857Z",
     "shell.execute_reply": "2023-07-20T18:55:05.550584Z"
    },
    "papermill": {
     "duration": 0.02795,
     "end_time": "2023-07-20T18:55:05.554517",
     "exception": false,
     "start_time": "2023-07-20T18:55:05.526567",
     "status": "completed"
    },
    "tags": []
   },
   "outputs": [
    {
     "data": {
      "text/html": [
       "<div>\n",
       "<style scoped>\n",
       "    .dataframe tbody tr th:only-of-type {\n",
       "        vertical-align: middle;\n",
       "    }\n",
       "\n",
       "    .dataframe tbody tr th {\n",
       "        vertical-align: top;\n",
       "    }\n",
       "\n",
       "    .dataframe thead th {\n",
       "        text-align: right;\n",
       "    }\n",
       "</style>\n",
       "<table border=\"1\" class=\"dataframe\">\n",
       "  <thead>\n",
       "    <tr style=\"text-align: right;\">\n",
       "      <th></th>\n",
       "      <th>Unnamed: 0</th>\n",
       "      <th>id</th>\n",
       "      <th>comment</th>\n",
       "      <th>User  id</th>\n",
       "      <th>Photo id</th>\n",
       "      <th>created Timestamp</th>\n",
       "      <th>posted date</th>\n",
       "      <th>emoji used</th>\n",
       "      <th>Hashtags used count</th>\n",
       "    </tr>\n",
       "  </thead>\n",
       "  <tbody>\n",
       "    <tr>\n",
       "      <th>0</th>\n",
       "      <td>0</td>\n",
       "      <td>1</td>\n",
       "      <td>unde at dolorem</td>\n",
       "      <td>2</td>\n",
       "      <td>1</td>\n",
       "      <td>13-04-2023 08:04</td>\n",
       "      <td>April 14</td>\n",
       "      <td>yes</td>\n",
       "      <td>1</td>\n",
       "    </tr>\n",
       "    <tr>\n",
       "      <th>1</th>\n",
       "      <td>1</td>\n",
       "      <td>2</td>\n",
       "      <td>quae ea ducimus</td>\n",
       "      <td>3</td>\n",
       "      <td>1</td>\n",
       "      <td>13-04-2023 08:04</td>\n",
       "      <td>April 14</td>\n",
       "      <td>no</td>\n",
       "      <td>2</td>\n",
       "    </tr>\n",
       "    <tr>\n",
       "      <th>2</th>\n",
       "      <td>2</td>\n",
       "      <td>3</td>\n",
       "      <td>alias a voluptatum</td>\n",
       "      <td>5</td>\n",
       "      <td>1</td>\n",
       "      <td>13-04-2023 08:04</td>\n",
       "      <td>April 14</td>\n",
       "      <td>no</td>\n",
       "      <td>4</td>\n",
       "    </tr>\n",
       "    <tr>\n",
       "      <th>3</th>\n",
       "      <td>3</td>\n",
       "      <td>4</td>\n",
       "      <td>facere suscipit sunt</td>\n",
       "      <td>14</td>\n",
       "      <td>1</td>\n",
       "      <td>13-04-2023 08:04</td>\n",
       "      <td>April 14</td>\n",
       "      <td>yes</td>\n",
       "      <td>2</td>\n",
       "    </tr>\n",
       "    <tr>\n",
       "      <th>4</th>\n",
       "      <td>4</td>\n",
       "      <td>5</td>\n",
       "      <td>totam eligendi quaerat</td>\n",
       "      <td>17</td>\n",
       "      <td>1</td>\n",
       "      <td>13-04-2023 08:04</td>\n",
       "      <td>April 14</td>\n",
       "      <td>yes</td>\n",
       "      <td>1</td>\n",
       "    </tr>\n",
       "  </tbody>\n",
       "</table>\n",
       "</div>"
      ],
      "text/plain": [
       "   Unnamed: 0  id                 comment  User  id  Photo id  \\\n",
       "0           0   1         unde at dolorem         2         1   \n",
       "1           1   2         quae ea ducimus         3         1   \n",
       "2           2   3      alias a voluptatum         5         1   \n",
       "3           3   4    facere suscipit sunt        14         1   \n",
       "4           4   5  totam eligendi quaerat        17         1   \n",
       "\n",
       "  created Timestamp posted date emoji used  Hashtags used count  \n",
       "0  13-04-2023 08:04    April 14        yes                    1  \n",
       "1  13-04-2023 08:04    April 14         no                    2  \n",
       "2  13-04-2023 08:04    April 14         no                    4  \n",
       "3  13-04-2023 08:04    April 14        yes                    2  \n",
       "4  13-04-2023 08:04    April 14        yes                    1  "
      ]
     },
     "execution_count": 4,
     "metadata": {},
     "output_type": "execute_result"
    }
   ],
   "source": [
    "ins.head()"
   ]
  },
  {
   "cell_type": "code",
   "execution_count": 5,
   "id": "13610efc",
   "metadata": {
    "execution": {
     "iopub.execute_input": "2023-07-20T18:55:05.572288Z",
     "iopub.status.busy": "2023-07-20T18:55:05.571848Z",
     "iopub.status.idle": "2023-07-20T18:55:05.611160Z",
     "shell.execute_reply": "2023-07-20T18:55:05.610172Z"
    },
    "papermill": {
     "duration": 0.05131,
     "end_time": "2023-07-20T18:55:05.613871",
     "exception": false,
     "start_time": "2023-07-20T18:55:05.562561",
     "status": "completed"
    },
    "tags": []
   },
   "outputs": [
    {
     "name": "stdout",
     "output_type": "stream",
     "text": [
      "<class 'pandas.core.frame.DataFrame'>\n",
      "RangeIndex: 7488 entries, 0 to 7487\n",
      "Data columns (total 9 columns):\n",
      " #   Column               Non-Null Count  Dtype \n",
      "---  ------               --------------  ----- \n",
      " 0   Unnamed: 0           7488 non-null   int64 \n",
      " 1   id                   7488 non-null   int64 \n",
      " 2   comment              7488 non-null   object\n",
      " 3   User  id             7488 non-null   int64 \n",
      " 4   Photo id             7488 non-null   int64 \n",
      " 5   created Timestamp    7488 non-null   object\n",
      " 6   posted date          7488 non-null   object\n",
      " 7   emoji used           7488 non-null   object\n",
      " 8   Hashtags used count  7488 non-null   int64 \n",
      "dtypes: int64(5), object(4)\n",
      "memory usage: 526.6+ KB\n"
     ]
    }
   ],
   "source": [
    "ins.info()"
   ]
  },
  {
   "cell_type": "code",
   "execution_count": 6,
   "id": "e2f9aa38",
   "metadata": {
    "execution": {
     "iopub.execute_input": "2023-07-20T18:55:05.631642Z",
     "iopub.status.busy": "2023-07-20T18:55:05.631251Z",
     "iopub.status.idle": "2023-07-20T18:55:05.668133Z",
     "shell.execute_reply": "2023-07-20T18:55:05.666418Z"
    },
    "papermill": {
     "duration": 0.048755,
     "end_time": "2023-07-20T18:55:05.670737",
     "exception": false,
     "start_time": "2023-07-20T18:55:05.621982",
     "status": "completed"
    },
    "tags": []
   },
   "outputs": [
    {
     "data": {
      "text/html": [
       "<div>\n",
       "<style scoped>\n",
       "    .dataframe tbody tr th:only-of-type {\n",
       "        vertical-align: middle;\n",
       "    }\n",
       "\n",
       "    .dataframe tbody tr th {\n",
       "        vertical-align: top;\n",
       "    }\n",
       "\n",
       "    .dataframe thead th {\n",
       "        text-align: right;\n",
       "    }\n",
       "</style>\n",
       "<table border=\"1\" class=\"dataframe\">\n",
       "  <thead>\n",
       "    <tr style=\"text-align: right;\">\n",
       "      <th></th>\n",
       "      <th>count</th>\n",
       "      <th>mean</th>\n",
       "      <th>std</th>\n",
       "      <th>min</th>\n",
       "      <th>25%</th>\n",
       "      <th>50%</th>\n",
       "      <th>75%</th>\n",
       "      <th>max</th>\n",
       "    </tr>\n",
       "  </thead>\n",
       "  <tbody>\n",
       "    <tr>\n",
       "      <th>Unnamed: 0</th>\n",
       "      <td>7488.0</td>\n",
       "      <td>3743.500000</td>\n",
       "      <td>2161.743741</td>\n",
       "      <td>0.0</td>\n",
       "      <td>1871.75</td>\n",
       "      <td>3743.5</td>\n",
       "      <td>5615.25</td>\n",
       "      <td>7487.0</td>\n",
       "    </tr>\n",
       "    <tr>\n",
       "      <th>id</th>\n",
       "      <td>7488.0</td>\n",
       "      <td>3744.500000</td>\n",
       "      <td>2161.743741</td>\n",
       "      <td>1.0</td>\n",
       "      <td>1872.75</td>\n",
       "      <td>3744.5</td>\n",
       "      <td>5616.25</td>\n",
       "      <td>7488.0</td>\n",
       "    </tr>\n",
       "    <tr>\n",
       "      <th>User  id</th>\n",
       "      <td>7488.0</td>\n",
       "      <td>48.949386</td>\n",
       "      <td>28.354045</td>\n",
       "      <td>2.0</td>\n",
       "      <td>24.00</td>\n",
       "      <td>48.0</td>\n",
       "      <td>72.00</td>\n",
       "      <td>100.0</td>\n",
       "    </tr>\n",
       "    <tr>\n",
       "      <th>Photo id</th>\n",
       "      <td>7488.0</td>\n",
       "      <td>129.099225</td>\n",
       "      <td>73.776439</td>\n",
       "      <td>1.0</td>\n",
       "      <td>65.00</td>\n",
       "      <td>130.0</td>\n",
       "      <td>193.00</td>\n",
       "      <td>257.0</td>\n",
       "    </tr>\n",
       "    <tr>\n",
       "      <th>Hashtags used count</th>\n",
       "      <td>7488.0</td>\n",
       "      <td>2.416667</td>\n",
       "      <td>1.705905</td>\n",
       "      <td>0.0</td>\n",
       "      <td>1.00</td>\n",
       "      <td>2.0</td>\n",
       "      <td>3.25</td>\n",
       "      <td>6.0</td>\n",
       "    </tr>\n",
       "  </tbody>\n",
       "</table>\n",
       "</div>"
      ],
      "text/plain": [
       "                      count         mean          std  min      25%     50%  \\\n",
       "Unnamed: 0           7488.0  3743.500000  2161.743741  0.0  1871.75  3743.5   \n",
       "id                   7488.0  3744.500000  2161.743741  1.0  1872.75  3744.5   \n",
       "User  id             7488.0    48.949386    28.354045  2.0    24.00    48.0   \n",
       "Photo id             7488.0   129.099225    73.776439  1.0    65.00   130.0   \n",
       "Hashtags used count  7488.0     2.416667     1.705905  0.0     1.00     2.0   \n",
       "\n",
       "                         75%     max  \n",
       "Unnamed: 0           5615.25  7487.0  \n",
       "id                   5616.25  7488.0  \n",
       "User  id               72.00   100.0  \n",
       "Photo id              193.00   257.0  \n",
       "Hashtags used count     3.25     6.0  "
      ]
     },
     "execution_count": 6,
     "metadata": {},
     "output_type": "execute_result"
    }
   ],
   "source": [
    "ins.describe().transpose()"
   ]
  },
  {
   "cell_type": "markdown",
   "id": "b074cd3f",
   "metadata": {
    "papermill": {
     "duration": 0.007934,
     "end_time": "2023-07-20T18:55:05.686962",
     "exception": false,
     "start_time": "2023-07-20T18:55:05.679028",
     "status": "completed"
    },
    "tags": []
   },
   "source": [
    "# Drop irrelevent column:"
   ]
  },
  {
   "cell_type": "code",
   "execution_count": 7,
   "id": "f6bccdc2",
   "metadata": {
    "execution": {
     "iopub.execute_input": "2023-07-20T18:55:05.705565Z",
     "iopub.status.busy": "2023-07-20T18:55:05.705127Z",
     "iopub.status.idle": "2023-07-20T18:55:05.713710Z",
     "shell.execute_reply": "2023-07-20T18:55:05.712760Z"
    },
    "papermill": {
     "duration": 0.020971,
     "end_time": "2023-07-20T18:55:05.716107",
     "exception": false,
     "start_time": "2023-07-20T18:55:05.695136",
     "status": "completed"
    },
    "tags": []
   },
   "outputs": [],
   "source": [
    "columns_to_drop = [\"Unnamed: 0\", \"id\"]\n",
    "ins.drop(columns=columns_to_drop, inplace=True)"
   ]
  },
  {
   "cell_type": "markdown",
   "id": "a2609983",
   "metadata": {
    "papermill": {
     "duration": 0.007793,
     "end_time": "2023-07-20T18:55:05.732317",
     "exception": false,
     "start_time": "2023-07-20T18:55:05.724524",
     "status": "completed"
    },
    "tags": []
   },
   "source": [
    "<center>\n",
    "  <h1 style=\"background-color:purple; color:white; font-size:40px; font-weight:bold; font-family:Times New Roman; border:2px solid black;\">Cleaning on the Data:</h1>\n",
    "</center>"
   ]
  },
  {
   "cell_type": "code",
   "execution_count": 8,
   "id": "91a116c8",
   "metadata": {
    "execution": {
     "iopub.execute_input": "2023-07-20T18:55:05.750900Z",
     "iopub.status.busy": "2023-07-20T18:55:05.750489Z",
     "iopub.status.idle": "2023-07-20T18:55:05.769335Z",
     "shell.execute_reply": "2023-07-20T18:55:05.768130Z"
    },
    "papermill": {
     "duration": 0.0315,
     "end_time": "2023-07-20T18:55:05.771897",
     "exception": false,
     "start_time": "2023-07-20T18:55:05.740397",
     "status": "completed"
    },
    "tags": []
   },
   "outputs": [
    {
     "data": {
      "text/plain": [
       "comment                0\n",
       "User  id               0\n",
       "Photo id               0\n",
       "created Timestamp      0\n",
       "posted date            0\n",
       "emoji used             0\n",
       "Hashtags used count    0\n",
       "dtype: int64"
      ]
     },
     "execution_count": 8,
     "metadata": {},
     "output_type": "execute_result"
    }
   ],
   "source": [
    "ins.isnull().sum()"
   ]
  },
  {
   "cell_type": "markdown",
   "id": "436506b5",
   "metadata": {
    "papermill": {
     "duration": 0.00825,
     "end_time": "2023-07-20T18:55:05.788544",
     "exception": false,
     "start_time": "2023-07-20T18:55:05.780294",
     "status": "completed"
    },
    "tags": []
   },
   "source": [
    "<center>\n",
    "  <h1 style=\"background-color:purple; color:white; font-size:40px; font-weight:bold; font-family:Times New Roman; border:2px solid black;\">Explore Data Distribution:</h1>\n",
    "</center>\n"
   ]
  },
  {
   "cell_type": "code",
   "execution_count": 9,
   "id": "fc7083d8",
   "metadata": {
    "execution": {
     "iopub.execute_input": "2023-07-20T18:55:05.808678Z",
     "iopub.status.busy": "2023-07-20T18:55:05.808229Z",
     "iopub.status.idle": "2023-07-20T18:55:05.816204Z",
     "shell.execute_reply": "2023-07-20T18:55:05.814996Z"
    },
    "papermill": {
     "duration": 0.021672,
     "end_time": "2023-07-20T18:55:05.818789",
     "exception": false,
     "start_time": "2023-07-20T18:55:05.797117",
     "status": "completed"
    },
    "tags": []
   },
   "outputs": [
    {
     "data": {
      "text/plain": [
       "Index(['comment', 'User  id', 'Photo id', 'created Timestamp', 'posted date',\n",
       "       'emoji used', 'Hashtags used count'],\n",
       "      dtype='object')"
      ]
     },
     "execution_count": 9,
     "metadata": {},
     "output_type": "execute_result"
    }
   ],
   "source": [
    "ins.columns"
   ]
  },
  {
   "cell_type": "code",
   "execution_count": 10,
   "id": "9de5ecd9",
   "metadata": {
    "execution": {
     "iopub.execute_input": "2023-07-20T18:55:05.839858Z",
     "iopub.status.busy": "2023-07-20T18:55:05.839152Z",
     "iopub.status.idle": "2023-07-20T18:55:06.237343Z",
     "shell.execute_reply": "2023-07-20T18:55:06.235967Z"
    },
    "papermill": {
     "duration": 0.412524,
     "end_time": "2023-07-20T18:55:06.240327",
     "exception": false,
     "start_time": "2023-07-20T18:55:05.827803",
     "status": "completed"
    },
    "tags": []
   },
   "outputs": [
    {
     "data": {
      "image/png": "[encoded data removed]",
      "text/plain": [
       "<Figure size 800x600 with 1 Axes>"
      ]
     },
     "metadata": {},
     "output_type": "display_data"
    }
   ],
   "source": [
    "# Plot the distribution of 'Hashtags used count'\n",
    "plt.figure(figsize=(8, 6))\n",
    "sns.histplot(ins['Hashtags used count'], bins=20, kde=True)\n",
    "plt.title('Distribution of Hashtags Used Count')\n",
    "plt.xlabel('Number of Hashtags Used')\n",
    "plt.ylabel('Count')\n",
    "plt.show()"
   ]
  },
  {
   "cell_type": "code",
   "execution_count": 11,
   "id": "88c415e8",
   "metadata": {
    "execution": {
     "iopub.execute_input": "2023-07-20T18:55:06.261079Z",
     "iopub.status.busy": "2023-07-20T18:55:06.260621Z",
     "iopub.status.idle": "2023-07-20T18:55:06.428987Z",
     "shell.execute_reply": "2023-07-20T18:55:06.427595Z"
    },
    "papermill": {
     "duration": 0.18182,
     "end_time": "2023-07-20T18:55:06.431736",
     "exception": false,
     "start_time": "2023-07-20T18:55:06.249916",
     "status": "completed"
    },
    "tags": []
   },
   "outputs": [
    {
     "data": {
      "image/png": "[encoded data removed]",
      "text/plain": [
       "<Figure size 800x600 with 1 Axes>"
      ]
     },
     "metadata": {},
     "output_type": "display_data"
    }
   ],
   "source": [
    "# Box plot to identify any outliers\n",
    "plt.figure(figsize=(8, 6))\n",
    "sns.boxplot(x=ins['Hashtags used count'])\n",
    "plt.title('Box Plot of Hashtags Used Count')\n",
    "plt.xlabel('Hashtags Used Count')\n",
    "plt.show()"
   ]
  },
  {
   "cell_type": "code",
   "execution_count": 12,
   "id": "e35e3fe2",
   "metadata": {
    "execution": {
     "iopub.execute_input": "2023-07-20T18:55:06.453431Z",
     "iopub.status.busy": "2023-07-20T18:55:06.452681Z",
     "iopub.status.idle": "2023-07-20T18:55:06.871178Z",
     "shell.execute_reply": "2023-07-20T18:55:06.870176Z"
    },
    "papermill": {
     "duration": 0.432847,
     "end_time": "2023-07-20T18:55:06.874257",
     "exception": false,
     "start_time": "2023-07-20T18:55:06.441410",
     "status": "completed"
    },
    "tags": []
   },
   "outputs": [
    {
     "data": {
      "image/png": "[encoded data removed]",
      "text/plain": [
       "<Figure size 640x480 with 1 Axes>"
      ]
     },
     "metadata": {},
     "output_type": "display_data"
    }
   ],
   "source": [
    "# Convert the timestamp column to datetime type\n",
    "ins['created Timestamp'] = pd.to_datetime(ins['created Timestamp'])\n",
    "\n",
    "# Extract date and time components\n",
    "ins['date'] = ins['created Timestamp'].dt.date\n",
    "ins['time'] = ins['created Timestamp'].dt.time\n",
    "\n",
    "# Daily activity trend\n",
    "daily_activity = ins['date'].value_counts().sort_index()\n",
    "plt.plot(daily_activity.index, daily_activity.values)\n",
    "plt.title('Daily Activity Trend')\n",
    "plt.xlabel('Date')\n",
    "plt.ylabel('Number of Posts')\n",
    "plt.xticks(rotation=45)\n",
    "plt.show()\n"
   ]
  },
  {
   "cell_type": "code",
   "execution_count": null,
   "id": "b45a42f0",
   "metadata": {},
   "outputs": [],
   "source": []
  },
  {
   "cell_type": "code",
   "execution_count": null,
   "id": "f468d024",
   "metadata": {},
   "outputs": [],
   "source": []
  },
  {
   "cell_type": "markdown",
   "id": "5775da1e",
   "metadata": {},
   "source": []
  }
 ],
 "metadata": {
  "kernelspec": {
   "display_name": "Python 3",
   "language": "python",
   "name": "python3"
  },
  "language_info": {
   "codemirror_mode": {
    "name": "ipython",
    "version": 3
   },
   "file_extension": ".py",
   "mimetype": "text/x-python",
   "name": "python",
   "nbconvert_exporter": "python",
   "pygments_lexer": "ipython3",
   "version": "3.10.12"
  },
  "papermill": {
   "default_parameters": {},
   "duration": 16.930676,
   "end_time": "2023-07-20T18:55:07.927788",
   "environment_variables": {},
   "exception": null,
   "input_path": "__notebook__.ipynb",
   "output_path": "__notebook__.ipynb",
   "parameters": {},
   "start_time": "2023-07-20T18:54:50.997112",
   "version": "2.4.0"
  }
 },
 "nbformat": 4,
 "nbformat_minor": 5
}
